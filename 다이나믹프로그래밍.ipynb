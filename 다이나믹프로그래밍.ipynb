{
 "cells": [
  {
   "cell_type": "markdown",
   "metadata": {},
   "source": [
    "다이나믹 프로그래밍은 기존의 코드가 메모리공간을 많이차지하거나 연산속도가 오래걸릴경우\n",
    "해결하는 방법중 하나이다.\n",
    "\n",
    "다이나믹 프로그래밍을 사용하긴 위해선 기존코드에서 이미해결된 문제에대해 반복수행되는 부분을 찾고 메모이제이션 해야한다."
   ]
  },
  {
   "cell_type": "code",
   "execution_count": 1,
   "metadata": {},
   "outputs": [],
   "source": [
    "# 재귀함수를 사용한 피보나치 수열\n",
    "\n",
    "def fibo(n):\n",
    "    if n==1 or n==2:\n",
    "        return 1\n",
    "    return fibo(n-1)+fibo(n-2)"
   ]
  },
  {
   "cell_type": "code",
   "execution_count": 9,
   "metadata": {},
   "outputs": [
    {
     "data": {
      "text/plain": [
       "55"
      ]
     },
     "execution_count": 9,
     "metadata": {},
     "output_type": "execute_result"
    }
   ],
   "source": [
    "fibo(10) # O(2^n) 지수시간 소요"
   ]
  },
  {
   "cell_type": "code",
   "execution_count": 5,
   "metadata": {},
   "outputs": [],
   "source": [
    "# 다이나믹프로그래밍을 이용한 피보나치수열\n",
    "\n",
    "di = [0 for i in range(100)]\n",
    "di[1], di[2] = 1, 1\n",
    "\n",
    "def di_fibo(n):\n",
    "    if di[n]==0:\n",
    "        di[n] = di_fibo(n-1) + di_fibo(n-2)\n",
    "    return di[n]"
   ]
  },
  {
   "cell_type": "markdown",
   "metadata": {},
   "source": [
    "재귀함수 형태로 큰 문제를 위해 작은문제를 해결하는방식을 **Top-Down**  방식이라고한다."
   ]
  },
  {
   "cell_type": "code",
   "execution_count": 14,
   "metadata": {},
   "outputs": [
    {
     "data": {
      "text/plain": [
       "218922995834555169026"
      ]
     },
     "execution_count": 14,
     "metadata": {},
     "output_type": "execute_result"
    }
   ],
   "source": [
    "di_fibo(99) # 1 sec 미만 소요"
   ]
  },
  {
   "cell_type": "code",
   "execution_count": 22,
   "metadata": {},
   "outputs": [
    {
     "name": "stdout",
     "output_type": "stream",
     "text": [
      "218922995834555169026\n"
     ]
    }
   ],
   "source": [
    "# 반복문을 사용한 피보나치수열\n",
    "\n",
    "di= [0 for i in range(100)]\n",
    "di[1] = 1\n",
    "di[2] = 1\n",
    "for i in range(1,len(di)):\n",
    "    if i==1 or i==2:\n",
    "        continue\n",
    "    di[i] = di[i-1] + di[i-2]\n",
    "\n",
    "print(di[99]) # n=99 일때"
   ]
  },
  {
   "cell_type": "markdown",
   "metadata": {},
   "source": [
    "반복문으로 작은문제부터 차근차근 답을 도출하는 방법을 **Bottom-Up**이라 한다."
   ]
  },
  {
   "cell_type": "code",
   "execution_count": 27,
   "metadata": {},
   "outputs": [
    {
     "name": "stdout",
     "output_type": "stream",
     "text": [
      "4\n"
     ]
    }
   ],
   "source": [
    "# 2 1로 만들기\n",
    "\n",
    "di = [0] * 1000 #DP 테이블 초기화\n",
    "\n",
    "n = int(input())\n",
    "\n",
    "for i in range(2,n+1):\n",
    "    \n",
    "    di[i] = di[i-1] + 1\n",
    "    \n",
    "    if i%5==0:\n",
    "        di[i] = min(di[i],di[i//5]+1)\n",
    "    if i%3==0:\n",
    "        di[i] = min(di[i],di[i//3]+1)\n",
    "    if i%2==0:\n",
    "        di[i] = min(di[i],di[i//2]+1)\n",
    "\n",
    "print(di[n])\n",
    "\n",
    "    \n",
    "     "
   ]
  },
  {
   "cell_type": "markdown",
   "metadata": {},
   "source": [
    "다이나믹 프로그래밍은 그래프를 그려보는것이 문제이해에 도움이 될수도 있다."
   ]
  },
  {
   "cell_type": "code",
   "execution_count": 1,
   "metadata": {},
   "outputs": [],
   "source": [
    "#3 개미전사\n",
    "import sys\n",
    "n = int(input())\n",
    "\n",
    "array = list(map(int, sys.stdin.readline().rstrip()))\n",
    "print(array)"
   ]
  }
 ],
 "metadata": {
  "interpreter": {
   "hash": "ab3a6c5ad1e8c4480a05b10b8bb1c2db3bc6360fc5ba5f5bb59c3c79a0ea1185"
  },
  "kernelspec": {
   "display_name": "Python 3.8.8 ('base')",
   "language": "python",
   "name": "python3"
  },
  "language_info": {
   "codemirror_mode": {
    "name": "ipython",
    "version": 3
   },
   "file_extension": ".py",
   "mimetype": "text/x-python",
   "name": "python",
   "nbconvert_exporter": "python",
   "pygments_lexer": "ipython3",
   "version": "3.8.8"
  },
  "orig_nbformat": 4
 },
 "nbformat": 4,
 "nbformat_minor": 2
}
