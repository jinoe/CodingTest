{
 "cells": [
  {
   "cell_type": "code",
   "execution_count": 8,
   "metadata": {},
   "outputs": [
    {
     "name": "stdout",
     "output_type": "stream",
     "text": [
      "[0, 1, 2, 3, 4, 5, 6, 7, 8, 9]\n"
     ]
    }
   ],
   "source": [
    "# 선택정렬\n",
    "# 가장 작은수를 뽑아서 앞에다 배치함\n",
    "array = [7, 5, 9, 0, 3, 1, 6, 2, 4, 8]\n",
    "\n",
    "# for i in range(len(array)):\n",
    "#     min_index = i\n",
    "#     for j in range(i+1,len(array)):\n",
    "#         if array[min_index] > array[j]:\n",
    "#             min_index = j\n",
    "#     array[min_index], array[i] = array[i], array[min_index]\n",
    "\n",
    "# print(array)\n",
    "\n",
    "for i in range(len(array)):\n",
    "    min_index = i\n",
    "    for j in range(i+1,len(array)):\n",
    "        if array[j]<array[min_index]:\n",
    "            min_index = j\n",
    "    array[i], array[min_index] = array[min_index], array[i]\n",
    "print(array)\n"
   ]
  },
  {
   "cell_type": "code",
   "execution_count": 14,
   "metadata": {},
   "outputs": [
    {
     "name": "stdout",
     "output_type": "stream",
     "text": [
      "[0, 1, 2, 3, 4, 5, 6, 7, 8, 9]\n"
     ]
    }
   ],
   "source": [
    "# 삽입정렬\n",
    "# 정렬된 바로 다음수부터 한개씩 앞으로 이동시키며 위치를 땡기다 더 적은수를 만나면 멈춤\n",
    "\n",
    "array = [7, 5, 9, 0, 3, 1, 6, 2, 4, 8]\n",
    "\n",
    "# for i in range(len(array)):\n",
    "#     for j in range(i,0,-1):\n",
    "#         if array[j] < array[j-1]:\n",
    "#             array[j], array[j-1] = array[j-1], array[j]\n",
    "#         else:\n",
    "#             break\n",
    "\n",
    "# print(array)\n",
    "\n",
    "for i in range(len(array)):\n",
    "    for j in range(i,0,-1):\n",
    "        if array[j] < array[j-1]:\n",
    "            array[j-1], array[j] = array[j], array[j-1]\n",
    "        else:\n",
    "            break #else 를 쓰지 않으면 insert 된 이후에도 이미 정렬된 데이터를 비교함 \n",
    "\n",
    "print(array)\n"
   ]
  },
  {
   "cell_type": "code",
   "execution_count": 22,
   "metadata": {},
   "outputs": [
    {
     "name": "stdout",
     "output_type": "stream",
     "text": [
      "[0, 1, 2, 3, 4, 5, 6, 7, 8, 9]\n"
     ]
    }
   ],
   "source": [
    "# 퀵정렬\n",
    "# 퀵정렬은 피벗값을 기준으로 왼쪽에는 더 작은값들이, 오른쪽에는 더 큰 값들이 온다.\n",
    "# i 는 피벗보다 큰값이 만나면 멈추고\n",
    "# j 는 피벗보다 작은값이 만나면 멈춘뒤 i 위치와 j 위피를 바꾼다.\n",
    "# 이를 재귀적으로 반복한다.\n",
    "\n",
    "# i와 j 가 엇갈리는 지점\n",
    "# 원소가 1개일때 정확하게 구현\n",
    "\n",
    "array = [7, 5, 9, 0, 3, 1, 6, 2, 4, 8]\n",
    "\n",
    "def quick_sort(array, start, end):\n",
    "    pivot = start\n",
    "    left = start+1\n",
    "    right = end\n",
    "\n",
    "    if start>=end: #재귀하는도중 원소가 1개 일때\n",
    "        return\n",
    "\n",
    "    while left<=right:\n",
    "        #left값 증가\n",
    "        while left <=end and array[left]<=array[pivot]:\n",
    "            left+=1\n",
    "        #right값 증가\n",
    "        while right>start and array[right]>=array[pivot]:\n",
    "            right-=1\n",
    "\n",
    "        # 일반적인경우 두값교체\n",
    "        if left<right:\n",
    "            array[left], array[right] = array[right], array[left]\n",
    "        \n",
    "        # 좌우 값이 한개로 모이거나 엇갈렸을때 작은값(right)과 피벗교체\n",
    "        elif left>=right:\n",
    "            array[right], array[start] = array[start], array[right]\n",
    "    # right값을 기준으로 좌우로 나눔\n",
    "    quick_sort(array,start,right-1)\n",
    "    quick_sort(array,right+1, end)\n",
    "\n",
    "quick_sort(array,0,len(array)-1)\n",
    "print(array)\n"
   ]
  },
  {
   "cell_type": "code",
   "execution_count": 25,
   "metadata": {},
   "outputs": [
    {
     "name": "stdout",
     "output_type": "stream",
     "text": [
      "[0, 1, 2, 3, 4, 5, 6, 7, 8, 9]\n"
     ]
    }
   ],
   "source": [
    "# 파이썬의 장점을 살린 퀵소트\n",
    "# 기억하기 훨씬 쉽지만 약간 느리다.\n",
    "\n",
    "array = [7, 5, 9, 0, 3, 1, 6, 2, 4, 8]\n",
    "def simple_quick_sort(array):\n",
    "\n",
    "    if len(array)<=1:\n",
    "        return array #배열을 리턴해줘야 출력으로 나오면서 합해진다.\n",
    "    \n",
    "    pivot = array[0]\n",
    "    tail = array[1:]\n",
    "\n",
    "    left_side = [i for i in tail if i<=pivot]\n",
    "    right_side = [j for j in tail if j>pivot]\n",
    "\n",
    "    return simple_quick_sort(left_side) + [pivot] + simple_quick_sort(right_side) #배열을 리턴해줘야 출력으로 나오면서 합해진다.\n",
    "\n",
    "print(simple_quick_sort(array))\n"
   ]
  },
  {
   "cell_type": "code",
   "execution_count": 9,
   "metadata": {},
   "outputs": [
    {
     "name": "stdout",
     "output_type": "stream",
     "text": [
      "0 0 1 1 2 2 3 4 5 5 6 7 8 9 9 "
     ]
    }
   ],
   "source": [
    "# 계수정렬\n",
    "# 가장큰 데이터와 가장작은 데이터의 차이가 1,000,000을 넘지않을때 사용할 수 있다.\n",
    "\n",
    "array = [7,5,9,0,3,1,6,2,9,1,4,8,0,5,2]\n",
    "\n",
    "count = [0] * (max(array)+1)\n",
    "\n",
    "for i in range(len(array)):\n",
    "    count[array[i]] += 1\n",
    "\n",
    "for i in range(len(count)):\n",
    "    for j in range(count[i]):\n",
    "        print(i, end=' ')\n",
    "\n"
   ]
  },
  {
   "cell_type": "code",
   "execution_count": 4,
   "metadata": {},
   "outputs": [
    {
     "name": "stdout",
     "output_type": "stream",
     "text": [
      "6 4 2 "
     ]
    }
   ],
   "source": [
    "# 2 위에서 아래로\n",
    "n = int(input())\n",
    "array = []\n",
    "for i in range(n):\n",
    "    array.append(int(input()))\n",
    "array.sort(reverse=True)\n",
    "for i in array:\n",
    "    print(i, end=' ')\n"
   ]
  },
  {
   "cell_type": "code",
   "execution_count": 5,
   "metadata": {},
   "outputs": [
    {
     "name": "stdout",
     "output_type": "stream",
     "text": [
      "이순신 홍길동 "
     ]
    }
   ],
   "source": [
    "# 3 성적이 낮은 순서로 학생 출력하기\n",
    "\n",
    "n = int(input())\n",
    "\n",
    "array = []\n",
    "for i in range(n):\n",
    "    name, grade = input().split()\n",
    "    grade = int(grade)\n",
    "    array.append([name, grade])\n",
    "\n",
    "def setting(data):\n",
    "    return data[1]\n",
    "\n",
    "array.sort(key=setting)\n",
    "\n",
    "for i in array:\n",
    "    print(i[0],end=' ')\n",
    "\n"
   ]
  },
  {
   "cell_type": "code",
   "execution_count": 8,
   "metadata": {},
   "outputs": [
    {
     "name": "stdout",
     "output_type": "stream",
     "text": [
      "26\n"
     ]
    }
   ],
   "source": [
    "# 4 두 배열의 원소 교체\n",
    "\n",
    "n, k = map(int, input().split())\n",
    "\n",
    "array1 = list(map(int, input().split()))\n",
    "array2 = list(map(int, input().split()))\n",
    "\n",
    "array2.sort(reverse=True)\n",
    "array1.sort()\n",
    "\n",
    "for i in range(k):\n",
    "    array1[i], array2[i] = array2[i], array1[i]\n",
    "\n",
    "print(sum(array1))\n"
   ]
  },
  {
   "cell_type": "code",
   "execution_count": null,
   "metadata": {},
   "outputs": [],
   "source": []
  }
 ],
 "metadata": {
  "interpreter": {
   "hash": "ab3a6c5ad1e8c4480a05b10b8bb1c2db3bc6360fc5ba5f5bb59c3c79a0ea1185"
  },
  "kernelspec": {
   "display_name": "Python 3.8.8 ('base')",
   "language": "python",
   "name": "python3"
  },
  "language_info": {
   "codemirror_mode": {
    "name": "ipython",
    "version": 3
   },
   "file_extension": ".py",
   "mimetype": "text/x-python",
   "name": "python",
   "nbconvert_exporter": "python",
   "pygments_lexer": "ipython3",
   "version": "3.8.8"
  },
  "orig_nbformat": 4
 },
 "nbformat": 4,
 "nbformat_minor": 2
}
