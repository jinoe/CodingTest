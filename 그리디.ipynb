{
 "cells": [
  {
   "cell_type": "code",
   "execution_count": 1,
   "metadata": {},
   "outputs": [
    {
     "name": "stdout",
     "output_type": "stream",
     "text": [
      "2\n"
     ]
    }
   ],
   "source": [
    "# 04\n",
    "x, k = map(int, input().split())\n",
    "count = 0\n",
    "while(1):\n",
    "    if x == 1:\n",
    "        break\n",
    "    if x % k == 0:\n",
    "        x //= k\n",
    "        # print(x)\n",
    "    else:\n",
    "        x -= 1\n",
    "        # print(x)\n",
    "    count += 1\n",
    "\n",
    "print(count)\n",
    "    "
   ]
  },
  {
   "cell_type": "code",
   "execution_count": null,
   "metadata": {},
   "outputs": [],
   "source": []
  }
 ],
 "metadata": {
  "interpreter": {
   "hash": "ab3a6c5ad1e8c4480a05b10b8bb1c2db3bc6360fc5ba5f5bb59c3c79a0ea1185"
  },
  "kernelspec": {
   "display_name": "Python 3.8.8 ('base')",
   "language": "python",
   "name": "python3"
  },
  "language_info": {
   "codemirror_mode": {
    "name": "ipython",
    "version": 3
   },
   "file_extension": ".py",
   "mimetype": "text/x-python",
   "name": "python",
   "nbconvert_exporter": "python",
   "pygments_lexer": "ipython3",
   "version": "3.8.8"
  },
  "orig_nbformat": 4
 },
 "nbformat": 4,
 "nbformat_minor": 2
}
