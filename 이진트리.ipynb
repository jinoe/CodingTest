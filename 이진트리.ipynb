{
 "cells": [
  {
   "cell_type": "code",
   "execution_count": 1,
   "metadata": {},
   "outputs": [
    {
     "name": "stdout",
     "output_type": "stream",
     "text": [
      "4번째\n"
     ]
    }
   ],
   "source": [
    "# 재귀함수를 통한 이진트리\n",
    "\n",
    "def binary_search(start,end,array,target):\n",
    "    if start>end:\n",
    "        return None    \n",
    "    mid = (start+end)//2\n",
    "\n",
    "    if target == array[mid]:\n",
    "        return mid\n",
    "    \n",
    "    elif target > array[mid]:\n",
    "        return binary_search(mid+1, end, array, target)\n",
    "    \n",
    "    elif target < array[mid]:\n",
    "        return binary_search(start, mid-1,array, target)\n",
    "\n",
    "n,  target = map(int, input().split())\n",
    "\n",
    "array = list(map(int, input().split()))\n",
    "\n",
    "result = binary_search(0, n-1, array, target)\n",
    "\n",
    "if result== None:\n",
    "    print(\"값이 없습니다\")\n",
    "else: \n",
    "    print(f\"{result+1}번째\")\n"
   ]
  },
  {
   "cell_type": "code",
   "execution_count": 5,
   "metadata": {},
   "outputs": [
    {
     "name": "stdout",
     "output_type": "stream",
     "text": [
      "값이 없습니다\n"
     ]
    }
   ],
   "source": [
    "# 반복문을 통한 이진탐색\n",
    "\n",
    "def binary_search(start, end, array, target):\n",
    "    \n",
    "\n",
    "    while start<=end:\n",
    "        mid = (start+end)//2\n",
    "        if array[mid]==target:\n",
    "            return mid\n",
    "        elif array[mid]<target:\n",
    "            end = mid - 1\n",
    "        elif array[mid]>target:\n",
    "            start = mid + 1\n",
    "    \n",
    "    return None\n",
    "\n",
    "n,  target = map(int, input().split())\n",
    "\n",
    "array = list(map(int, input().split()))\n",
    "\n",
    "result = binary_search(0, n-1, array, target)\n",
    "\n",
    "if result==None:\n",
    "    print(\"값이 없습니다\")\n",
    "else:\n",
    "    print(f\"{result+1}번째\")"
   ]
  },
  {
   "cell_type": "code",
   "execution_count": 14,
   "metadata": {},
   "outputs": [
    {
     "name": "stdout",
     "output_type": "stream",
     "text": [
      "no no "
     ]
    }
   ],
   "source": [
    "# 2 부품찾기\n",
    "\n",
    "n = int(input())\n",
    "a = list(map(int, input().split()))\n",
    "m = int(input())\n",
    "b = list(map(int, input().split()))\n",
    "\n",
    "for i in range(len(b)):\n",
    "    if b[i] in a:\n",
    "        print(\"yes\", end=\" \")\n",
    "    else:\n",
    "        print(\"no\", end=\" \")"
   ]
  },
  {
   "cell_type": "code",
   "execution_count": 13,
   "metadata": {},
   "outputs": [
    {
     "name": "stdout",
     "output_type": "stream",
     "text": [
      "True\n"
     ]
    }
   ],
   "source": [
    "print(1 in [1,2,3,4])"
   ]
  }
 ],
 "metadata": {
  "interpreter": {
   "hash": "ab3a6c5ad1e8c4480a05b10b8bb1c2db3bc6360fc5ba5f5bb59c3c79a0ea1185"
  },
  "kernelspec": {
   "display_name": "Python 3.8.8 ('base')",
   "language": "python",
   "name": "python3"
  },
  "language_info": {
   "codemirror_mode": {
    "name": "ipython",
    "version": 3
   },
   "file_extension": ".py",
   "mimetype": "text/x-python",
   "name": "python",
   "nbconvert_exporter": "python",
   "pygments_lexer": "ipython3",
   "version": "3.8.8"
  },
  "orig_nbformat": 4
 },
 "nbformat": 4,
 "nbformat_minor": 2
}
