{
 "cells": [
  {
   "cell_type": "code",
   "execution_count": 3,
   "metadata": {},
   "outputs": [
    {
     "name": "stdout",
     "output_type": "stream",
     "text": [
      "no yes yes "
     ]
    }
   ],
   "source": [
    "#2 부품찾기\n",
    "import sys\n",
    "n = int(input())\n",
    "array = list(map(int, input().split()))\n",
    "\n",
    "m = int(input())\n",
    "array2 = list(map(int,input().split()))\n",
    "\n",
    "def binary_tree(start, end, array, target):\n",
    "    if start>end:\n",
    "        return None\n",
    "    mid = (start+end)//2\n",
    "\n",
    "    if array[mid]==target:\n",
    "        return mid\n",
    "    elif array[mid]>target:\n",
    "        return binary_tree(start,mid-1,array,target)\n",
    "    elif array[mid]<target:\n",
    "        return binary_tree(mid+1,end,array,target)\n",
    "\n",
    "\n",
    "for i in array2:\n",
    "    if binary_tree(0,len(array)-1,array,i) == None:\n",
    "        print(\"no\", end=\" \")\n",
    "    else:\n",
    "        print(\"yes\",end=' ')\n"
   ]
  },
  {
   "cell_type": "code",
   "execution_count": 7,
   "metadata": {},
   "outputs": [
    {
     "name": "stdout",
     "output_type": "stream",
     "text": [
      "15\n"
     ]
    }
   ],
   "source": [
    "#3 떡볶이 떡 만들기\n",
    "\n",
    "n, m = map(int, input().split())\n",
    "rice_cake = list(map(int, input().split()))\n",
    "\n",
    "def cut(array,height):\n",
    "    sum = 0\n",
    "    for i in array:\n",
    "        if i-height>=0:\n",
    "            sum += i-height\n",
    "    return sum\n",
    "\n",
    "height = 0\n",
    "\n",
    "while cut(rice_cake, height)>m:\n",
    "    height += 1\n",
    "\n",
    "print(height)\n"
   ]
  },
  {
   "cell_type": "code",
   "execution_count": 2,
   "metadata": {},
   "outputs": [
    {
     "name": "stdout",
     "output_type": "stream",
     "text": [
      "15\n"
     ]
    }
   ],
   "source": [
    "#3 이진탐색 이용\n",
    "n, m = map(int, input().split())\n",
    "rice_cake = list(map(int, input().split()))\n",
    "\n",
    "def cut(array,height):\n",
    "    sum = 0\n",
    "    for i in array:\n",
    "        if i-height>=0:\n",
    "            sum += i-height\n",
    "    return sum\n",
    "\n",
    "start = 0\n",
    "end = max(rice_cake)\n",
    "result = 0\n",
    "\n",
    "while start<=end:\n",
    "    mid = (start+end)//2\n",
    "    \n",
    "    if cut(rice_cake,mid)>m:\n",
    "        start = mid + 1\n",
    "    elif cut(rice_cake,mid)<=m:\n",
    "        result = mid\n",
    "        end = mid - 1\n",
    "\n",
    "print(result)"
   ]
  },
  {
   "cell_type": "code",
   "execution_count": null,
   "metadata": {},
   "outputs": [],
   "source": []
  }
 ],
 "metadata": {
  "interpreter": {
   "hash": "ab3a6c5ad1e8c4480a05b10b8bb1c2db3bc6360fc5ba5f5bb59c3c79a0ea1185"
  },
  "kernelspec": {
   "display_name": "Python 3.8.8 ('base')",
   "language": "python",
   "name": "python3"
  },
  "language_info": {
   "codemirror_mode": {
    "name": "ipython",
    "version": 3
   },
   "file_extension": ".py",
   "mimetype": "text/x-python",
   "name": "python",
   "nbconvert_exporter": "python",
   "pygments_lexer": "ipython3",
   "version": "3.8.8"
  },
  "orig_nbformat": 4
 },
 "nbformat": 4,
 "nbformat_minor": 2
}
