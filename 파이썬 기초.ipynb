{
 "cells": [
  {
   "cell_type": "code",
   "execution_count": 2,
   "metadata": {},
   "outputs": [
    {
     "name": "stdout",
     "output_type": "stream",
     "text": [
      "0.8999999999999999\n",
      "0.9\n"
     ]
    }
   ],
   "source": [
    "a = 0.3 + 0.6\n",
    "print(a)\n",
    "\n",
    "print(round(a,4)) #반올림"
   ]
  },
  {
   "cell_type": "code",
   "execution_count": 6,
   "metadata": {},
   "outputs": [
    {
     "name": "stdout",
     "output_type": "stream",
     "text": [
      "1\n",
      "2\n",
      "49\n"
     ]
    }
   ],
   "source": [
    "a = 7\n",
    "b = 3\n",
    "\n",
    "print(7%3)\n",
    "print(7//3)\n",
    "print(7**2)"
   ]
  },
  {
   "cell_type": "code",
   "execution_count": 41,
   "metadata": {},
   "outputs": [
    {
     "name": "stdout",
     "output_type": "stream",
     "text": [
      "[1, 2, 3, 4, 5, 6, 7, 8, 9]\n",
      "5\n",
      "[]\n",
      "[]\n",
      "9\n",
      "7\n",
      "[2, 3, 4]\n",
      "[1, 3, 5, 7, 9, 11, 13, 15, 17, 19]\n",
      "[1, 4, 27, 256, 3125, 46656, 823543, 16777216, 387420489]\n",
      "[[0, 0, 0, 0], [0, 0, 0, 0], [0, 0, 0, 0]]\n",
      "[[0, 0, 0, 0, 0], [0, 0, 0, 0, 0], [0, 0, 0, 0, 0], [0, 0, 0, 0, 0], [0, 0, 0, 0, 0], [0, 0, 0, 0, 0]]\n",
      "[[0, 0, 0, 0], [0, 0, 0, 0], [0, 0, 0, 0]]\n",
      "[[0, 5, 0, 0], [0, 5, 0, 0], [0, 5, 0, 0]]\n",
      "기본: [1, 4, 3]\n",
      "append: [1, 4, 3, 2]\n",
      "sort: [1, 2, 3, 4]\n",
      "내림차순: [4, 3, 2, 1]\n",
      "reverse: [1, 2, 3, 4]\n",
      "insert [1, 2, 3, 3, 4]\n",
      "2\n",
      "remove: [1, 2, 3, 4]\n",
      "result: [1, 2, 4]\n"
     ]
    }
   ],
   "source": [
    "#리스트\n",
    "\n",
    "a = [1,2,3,4,5,6,7,8,9]\n",
    "print(a)\n",
    "\n",
    "print(a[4]) # 0 1 2 3 4\n",
    "\n",
    "#빈리스트 1\n",
    "a = list()\n",
    "print(a)\n",
    "#빈리스트 2\n",
    "a = []\n",
    "print(a)\n",
    "\n",
    "#슬라이싱\n",
    "a = [1,2,3,4,5,6,7,8,9]\n",
    "\n",
    "print(a[-1])\n",
    "print(a[-3])\n",
    "\n",
    "print(a[1:4])\n",
    "\n",
    "#리스트 컴프리핸션\n",
    "array = [i for i in range(20) if i%2==1] # i, for문, 조건문 (조건맞으면 i를 append)\n",
    "print(array)\n",
    "\n",
    "array = [i**i for i in range(1,10)] # 조건은 없고 i제곱을 append\n",
    "print(array)\n",
    "\n",
    "#2차원배열초기화\n",
    "n = 3\n",
    "m = 4\n",
    "array = [[0]* m for _ in range(n)] # i 쓸 필요없어서 _ 대체\n",
    "print(array)\n",
    "\n",
    "array = [[0]*5 for _ in range(6)]\n",
    "print(array)\n",
    "\n",
    "#리스트 주의점\n",
    "n = 3\n",
    "m = 4\n",
    "\n",
    "array = [[0]*m]*n\n",
    "print(array)\n",
    "array[1][1] = 5\n",
    "print(array) # 곱셈을 사용하면 각은 객체로 인식된다.\n",
    "\n",
    "#리스트 활용 함수\n",
    "\n",
    "a = [1,4,3]\n",
    "print(\"기본:\",a)\n",
    "\n",
    "a.append(2)\n",
    "print(\"append:\",a)\n",
    "\n",
    "a.sort() #원형 바꿈\n",
    "print(\"sort:\",a)\n",
    "\n",
    "a.sort(reverse=True) #역순, T 값 사용불가능 True 사용\n",
    "print(\"내림차순:\",a)\n",
    "\n",
    "a.reverse()\n",
    "print(\"reverse:\",a)\n",
    "\n",
    "a.insert(2,3) #2번 인덱스에 3추가\n",
    "print(\"insert\",a)\n",
    "\n",
    "print(a.count(3))\n",
    "\n",
    "a.remove(3)\n",
    "print(\"remove:\",a) # 가장앞에 값만 제거\n",
    "\n",
    "#특정값 전부제거\n",
    "\n",
    "a = [1,2,3,4,5,5,5,5]\n",
    "remove_set = {3,5}\n",
    "\n",
    "\n",
    "result = [i for i in a if i not in remove_set]\n",
    "print(\"result:\",result)\n",
    "\n"
   ]
  },
  {
   "cell_type": "code",
   "execution_count": 13,
   "metadata": {},
   "outputs": [
    {
     "name": "stdout",
     "output_type": "stream",
     "text": [
      "Hello World\n",
      "CD\n",
      "(1, 2, 3, 4)\n",
      "(1, 2, 3, 4)\n",
      "{'사과': 'apple', '바나나': 'Banana'}\n",
      "<built-in method keys of dict object at 0x000002116D7EFFC0>\n",
      "{1, 2, 3, 4, 5}\n",
      "{1, 2, 3, 4, 5}\n",
      "{1, 2, 3, 4, 5, 6, 7}\n",
      "{3, 4, 5}\n",
      "{1, 2}\n",
      "{1, 2, 3, 4, 5, 6}\n"
     ]
    }
   ],
   "source": [
    "#문자열\n",
    "a =\"Hello\"\n",
    "b=\"World\"\n",
    "\n",
    "print(a+\" \"+b)\n",
    "a = \"ABCDE\"\n",
    "print(a[2:4]) #슬라이싱, range() => 마지막꺼는 포함안됨\n",
    "\n",
    "#튜플\n",
    "a = (1,2,3,4) #변경불가\n",
    "print(a)\n",
    "# a[2] = 7 타입에러\n",
    "print(a)\n",
    "\n",
    "#딕셔너리\n",
    "data = dict() #빈 딕셔너리\n",
    "data['사과'] = \"apple\"\n",
    "data['바나나'] = \"Banana\"\n",
    "\n",
    "print(data)\n",
    "\n",
    "# 원소마다 분류되는 레이블이 존재할때 원소를 그룹핑 하면 탐색시간을 리스트보다 훨씬줄일수 있다\n",
    "\n",
    "print(data.keys)\n",
    "\n",
    "#집합\n",
    "#중복 x 순서 x\n",
    "#딕셔너리와 집합은 순서가없어서 인덱싱으로 못얻음\n",
    "\n",
    "#집합 초기화1\n",
    "data = set([1,1,2,3,4,4,5])\n",
    "print(data)\n",
    "\n",
    "#초기화2\n",
    "data ={1,1,2,3,4,4,5}\n",
    "print(data)\n",
    "\n",
    "#합집합, 교집합, 차집합\n",
    "a = {1,2,3,4,5}\n",
    "b = {3,4,5,6,7}\n",
    "\n",
    "print(a|b)\n",
    "print(a&b)\n",
    "print(a-b)\n",
    "\n",
    "#집합 관련함수\n",
    "data = {1,2,3}\n",
    "data.add(4)\n",
    "data.update([4,5,6])\n",
    "print(data)"
   ]
  },
  {
   "cell_type": "code",
   "execution_count": 25,
   "metadata": {},
   "outputs": [
    {
     "name": "stdout",
     "output_type": "stream",
     "text": [
      "['S', 'S', 'S', 'S', 'S']\n",
      "S\n",
      "[1, 2, 3, 4, 4, 5, 5, 5]\n",
      "[1, 2, 4, 4]\n"
     ]
    }
   ],
   "source": [
    "#조건문\n",
    "\n",
    "#조건부 표현식\n",
    "score =85\n",
    "result = [\"S\" for _ in range(5) if(score>=80)]\n",
    "print(result)\n",
    "result = \"S\" if score>80 else \"F\"\n",
    "print(result)\n",
    "\n",
    "#리스트원소값 제거에 유용\n",
    "a = [1,2,3,4,4,5,5,5]\n",
    "print(a)\n",
    "\n",
    "remove_set = {3,5}\n",
    "result = [i for i in a if i not in remove_set]\n",
    "print(result)\n",
    "\n",
    "#파이썬에서의 부등식\n",
    "# if x>0 and x<20: 말고 if 0<x<20: 으로해도 인식가능"
   ]
  },
  {
   "cell_type": "code",
   "execution_count": 26,
   "metadata": {},
   "outputs": [
    {
     "name": "stdout",
     "output_type": "stream",
     "text": [
      "2 x 1 = 2\n",
      "2 x 2 = 4\n",
      "2 x 3 = 6\n",
      "2 x 4 = 8\n",
      "2 x 5 = 10\n",
      "2 x 6 = 12\n",
      "2 x 7 = 14\n",
      "2 x 8 = 16\n",
      "2 x 9 = 18\n",
      "3 x 1 = 3\n",
      "3 x 2 = 6\n",
      "3 x 3 = 9\n",
      "3 x 4 = 12\n",
      "3 x 5 = 15\n",
      "3 x 6 = 18\n",
      "3 x 7 = 21\n",
      "3 x 8 = 24\n",
      "3 x 9 = 27\n",
      "4 x 1 = 4\n",
      "4 x 2 = 8\n",
      "4 x 3 = 12\n",
      "4 x 4 = 16\n",
      "4 x 5 = 20\n",
      "4 x 6 = 24\n",
      "4 x 7 = 28\n",
      "4 x 8 = 32\n",
      "4 x 9 = 36\n",
      "5 x 1 = 5\n",
      "5 x 2 = 10\n",
      "5 x 3 = 15\n",
      "5 x 4 = 20\n",
      "5 x 5 = 25\n",
      "5 x 6 = 30\n",
      "5 x 7 = 35\n",
      "5 x 8 = 40\n",
      "5 x 9 = 45\n",
      "6 x 1 = 6\n",
      "6 x 2 = 12\n",
      "6 x 3 = 18\n",
      "6 x 4 = 24\n",
      "6 x 5 = 30\n",
      "6 x 6 = 36\n",
      "6 x 7 = 42\n",
      "6 x 8 = 48\n",
      "6 x 9 = 54\n",
      "7 x 1 = 7\n",
      "7 x 2 = 14\n",
      "7 x 3 = 21\n",
      "7 x 4 = 28\n",
      "7 x 5 = 35\n",
      "7 x 6 = 42\n",
      "7 x 7 = 49\n",
      "7 x 8 = 56\n",
      "7 x 9 = 63\n",
      "8 x 1 = 8\n",
      "8 x 2 = 16\n",
      "8 x 3 = 24\n",
      "8 x 4 = 32\n",
      "8 x 5 = 40\n",
      "8 x 6 = 48\n",
      "8 x 7 = 56\n",
      "8 x 8 = 64\n",
      "8 x 9 = 72\n",
      "9 x 1 = 9\n",
      "9 x 2 = 18\n",
      "9 x 3 = 27\n",
      "9 x 4 = 36\n",
      "9 x 5 = 45\n",
      "9 x 6 = 54\n",
      "9 x 7 = 63\n",
      "9 x 8 = 72\n",
      "9 x 9 = 81\n"
     ]
    }
   ],
   "source": [
    "#반복문\n",
    "# for i in (리스트, 튜플 문자열) 가능\n",
    "# 중간에 continue를 만나면 처음으로 돌아감\n",
    "\n",
    "#구구단\n",
    "for i in range(2,10):\n",
    "    for j in range(1,10):\n",
    "        print(\"{} x {} = {}\".format(i,j,i*j))"
   ]
  },
  {
   "cell_type": "code",
   "execution_count": 34,
   "metadata": {},
   "outputs": [
    {
     "name": "stdout",
     "output_type": "stream",
     "text": [
      "10\n",
      "1\n",
      "<function <lambda> at 0x000002116E24B4C0> (3, 7)\n"
     ]
    }
   ],
   "source": [
    "#함수\n",
    "def add(a,b):\n",
    "    return a+b\n",
    "\n",
    "print(add(3,7))\n",
    "\n",
    "#golbal 키워드\n",
    "\n",
    "a = 0\n",
    "\n",
    "def add1():\n",
    "    global a\n",
    "    a += 1\n",
    "    return a\n",
    "print(add1())\n",
    "\n",
    "#람다표현식 , 함수 단순화\n",
    "print((lambda a,b: a+b),(3,7))"
   ]
  },
  {
   "cell_type": "code",
   "execution_count": 1,
   "metadata": {},
   "outputs": [
    {
     "name": "stdout",
     "output_type": "stream",
     "text": [
      "[3, 3, 3, 3]\n",
      "2 2 2\n"
     ]
    }
   ],
   "source": [
    "#입출력\n",
    "n = int(input())\n",
    "\n",
    "data = list(map(int, input().split())) #이건 리스트로 저장\n",
    "n, m, k = map(int, input().split()) #이건 개별 저장\n",
    "\n",
    "data.sort(reverse=True)\n",
    "print(data)\n",
    "print(n,m,k)\n"
   ]
  },
  {
   "cell_type": "code",
   "execution_count": 1,
   "metadata": {},
   "outputs": [],
   "source": [
    "#input은 입력시간이 느리다\n",
    "#주피터에서는 readline() 사용불가....\n",
    "import sys\n",
    "data = sys.stdin.readline().rstrip() #한줄 단위로 읽고 저장하는것\n",
    "\n",
    "data = list(map(int, sys.stdin.readline().rstrip().split()))\n",
    "#rstrip로 끝에 \\n 문자 제거, split로 공백기준 나누고, map로 int 매핑, list()로 리스트 생성\n",
    "print(data)"
   ]
  },
  {
   "cell_type": "code",
   "execution_count": 1,
   "metadata": {},
   "outputs": [
    {
     "name": "stdout",
     "output_type": "stream",
     "text": [
      "정답은 7 입니다.\n"
     ]
    }
   ],
   "source": [
    "# f-스트링 문법\n",
    "answer = 7\n",
    "\n",
    "print(f\"정답은 {answer} 입니다.\")\n",
    "# \"{} {}\".foramt() 안써도됨"
   ]
  },
  {
   "cell_type": "code",
   "execution_count": 4,
   "metadata": {},
   "outputs": [
    {
     "name": "stdout",
     "output_type": "stream",
     "text": [
      "[1, 2, 3, 3, 5]\n",
      "56\n",
      "[('이순신', 20), ('홍길동', 35), ('아무개', 40)]\n"
     ]
    }
   ],
   "source": [
    "#내장함수\n",
    "\n",
    "#정렬\n",
    "a = [2,3,1,3,5]\n",
    "print(sorted(a))\n",
    "\n",
    "#eval\n",
    "result = eval(\"(3+5)*7\") #수식 꼐산해줌\n",
    "print(result)\n",
    "\n",
    "result = sorted([('홍길동',35),(\"이순신\",20),(\"아무개\",40)],key = lambda x: x[1]) # x에대해 x[1]을 반환하는 함수\n",
    "print(result)"
   ]
  },
  {
   "cell_type": "code",
   "execution_count": 12,
   "metadata": {},
   "outputs": [
    {
     "name": "stdout",
     "output_type": "stream",
     "text": [
      "[('A', 'B', 'C'), ('A', 'C', 'B'), ('B', 'A', 'C'), ('B', 'C', 'A'), ('C', 'A', 'B'), ('C', 'B', 'A')]\n",
      "[('A', 'B'), ('A', 'C'), ('B', 'C')]\n",
      "[('A', 'A', 'A'), ('A', 'A', 'B'), ('A', 'A', 'C'), ('A', 'B', 'B'), ('A', 'B', 'C'), ('A', 'C', 'C'), ('B', 'B', 'B'), ('B', 'B', 'C'), ('B', 'C', 'C'), ('C', 'C', 'C')]\n",
      "[('A', 'A'), ('A', 'B'), ('A', 'C'), ('B', 'A'), ('B', 'B'), ('B', 'C'), ('C', 'A'), ('C', 'B'), ('C', 'C')]\n"
     ]
    }
   ],
   "source": [
    "#itertools 순열, 조합 함수\n",
    "\n",
    "from itertools import permutations\n",
    "data = ['A','B','C']\n",
    "result = list(permutations(data,3)) #data에서 3개를뽑아 나열하는경우\n",
    "print(result)\n",
    "\n",
    "from itertools import combinations\n",
    "data = ['A','B','C']\n",
    "result = list(combinations(data,2)) #2개를 뽑는 모든 경우\n",
    "print(result)\n",
    "\n",
    "from itertools import combinations_with_replacement\n",
    "result = list(combinations_with_replacement(data,3)) \n",
    "print(result) #중복허용 순열\n",
    "\n",
    "from itertools import product\n",
    "result = list(product(data,repeat=2))\n",
    "print(result) #중복허용 조합"
   ]
  },
  {
   "cell_type": "code",
   "execution_count": 14,
   "metadata": {},
   "outputs": [
    {
     "name": "stdout",
     "output_type": "stream",
     "text": [
      "[1, 1, 2, 2, 3, 3, 4, 4, 5, 5, 6, 6, 6, 8, 10, 30, 45]\n"
     ]
    }
   ],
   "source": [
    "#힙 자료구조, 힙은 완전이진트리 자료구조\n",
    "#최소힙만 지원, 부모의 인덱스 가장작은값인것\n",
    "import heapq\n",
    "\n",
    "\n",
    "# heappush(h,value)\n",
    "# heappop(h)\n",
    "#힙 소트 구현\n",
    "\n",
    "def heapsort(iterable):\n",
    "    h =[]\n",
    "    result =[]\n",
    "\n",
    "    for value in iterable:\n",
    "        heapq.heappush(h,value) # 밸류값 푸시\n",
    "    \n",
    "    for _ in range(len(h)):\n",
    "        result.append(heapq.heappop(h)) #밸류값 pop\n",
    "\n",
    "    return result\n",
    "\n",
    "result = heapsort([1,2,5,6,3,2,1,4,6,8,6,5,3,4,30,10,45])\n",
    "print(result)\n"
   ]
  },
  {
   "cell_type": "code",
   "execution_count": 15,
   "metadata": {},
   "outputs": [
    {
     "name": "stdout",
     "output_type": "stream",
     "text": [
      "2\n",
      "4\n"
     ]
    }
   ],
   "source": [
    "# 이진탐색\n",
    "from bisect import bisect_left, bisect_right\n",
    "\n",
    "# 삽입할게 4 일때\n",
    "# 123 left 4 4 right 5 6 7\n",
    "#좌우 인덱스 반환\n",
    "\n",
    "a = [1,2,4,4,8]\n",
    "\n",
    "print(bisect_left(a,4))\n",
    "print(bisect_right(a,4))"
   ]
  },
  {
   "cell_type": "code",
   "execution_count": 16,
   "metadata": {},
   "outputs": [
    {
     "name": "stdout",
     "output_type": "stream",
     "text": [
      "deque([1, 2, 3, 4, 5])\n"
     ]
    }
   ],
   "source": [
    "#자료구조 라이브러리 collections\n",
    "# 파이썬에서는 deque를 이용해 큐를 구현\n",
    "\n",
    "#리스트는 맨뒤에 추가 맨앞추가,제거는 O(N)\n",
    "#deque는 전부 O(1)\n",
    "\n",
    "#deque는 인덱싱 슬라이싱 사용불가, 스택, 큐의 대용으로 사용가능\n",
    "# popleft(), pop(), appendleft(x), append(x)\n",
    "\n",
    "\n",
    "from collections import deque\n",
    "\n",
    "data = deque([2,3,4])\n",
    "data.appendleft(1)\n",
    "data.append(5)\n",
    "print(data)"
   ]
  },
  {
   "cell_type": "code",
   "execution_count": 18,
   "metadata": {},
   "outputs": [
    {
     "name": "stdout",
     "output_type": "stream",
     "text": [
      "2\n",
      "3\n",
      "{'red': 2, 'blue': 3}\n"
     ]
    }
   ],
   "source": [
    "# collections 의 Counter 등장횟수를 센다\n",
    "from collections import Counter\n",
    "count = Counter(['red','blue','red','blue','blue'])\n",
    "\n",
    "print(count['red'])\n",
    "print(count['blue'])\n",
    "print(dict(count)) #dict 자료형으로 변환"
   ]
  },
  {
   "cell_type": "code",
   "execution_count": 20,
   "metadata": {},
   "outputs": [
    {
     "name": "stdout",
     "output_type": "stream",
     "text": [
      "120\n",
      "2.6457513110645907\n",
      "7\n",
      "3.141592653589793\n",
      "2.718281828459045\n"
     ]
    }
   ],
   "source": [
    "# 수학 / 팩토리얼, 제곱근, 최대공약수 GCD\n",
    "\n",
    "import math\n",
    "\n",
    "print(math.factorial(5))\n",
    "print(math.sqrt(7))\n",
    "print(math.gcd(21,14))\n",
    "print(math.pi)\n",
    "print(math.e)"
   ]
  }
 ],
 "metadata": {
  "interpreter": {
   "hash": "ab3a6c5ad1e8c4480a05b10b8bb1c2db3bc6360fc5ba5f5bb59c3c79a0ea1185"
  },
  "kernelspec": {
   "display_name": "Python 3.8.8 ('base')",
   "language": "python",
   "name": "python3"
  },
  "language_info": {
   "codemirror_mode": {
    "name": "ipython",
    "version": 3
   },
   "file_extension": ".py",
   "mimetype": "text/x-python",
   "name": "python",
   "nbconvert_exporter": "python",
   "pygments_lexer": "ipython3",
   "version": "3.8.8"
  },
  "orig_nbformat": 4
 },
 "nbformat": 4,
 "nbformat_minor": 2
}
