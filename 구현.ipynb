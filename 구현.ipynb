{
 "cells": [
  {
   "cell_type": "markdown",
   "metadata": {},
   "source": [
    "파이썬 문법을 자유롭게 활용하는것이 중요\n",
    "\n",
    "이동에 관련된 문제는 리스트를 적극활용"
   ]
  },
  {
   "cell_type": "code",
   "execution_count": 11,
   "metadata": {},
   "outputs": [
    {
     "name": "stdout",
     "output_type": "stream",
     "text": [
      "3 4\n"
     ]
    }
   ],
   "source": [
    "# 4-1 상하좌우\n",
    "\n",
    "n = int(input())\n",
    "move = list(input().split())\n",
    "\n",
    "x = 1\n",
    "y = 1\n",
    "\n",
    "for i in move:\n",
    "    if i == 'R' and y<n:\n",
    "        y += 1\n",
    "    elif i == 'L' and y>1:\n",
    "        y -= 1\n",
    "    elif i == 'U' and x>1:\n",
    "        x -= 1\n",
    "    elif i =='D' and x<n:\n",
    "        x += 1\n",
    "    else:\n",
    "        pass\n",
    "\n",
    "print(x, y)"
   ]
  },
  {
   "cell_type": "code",
   "execution_count": 17,
   "metadata": {},
   "outputs": [
    {
     "name": "stdout",
     "output_type": "stream",
     "text": [
      "11475\n"
     ]
    }
   ],
   "source": [
    "# 4-2 시각\n",
    "\n",
    "n = int(input())\n",
    "count = 0\n",
    "for i in range(n+1):\n",
    "    for j in range(60):\n",
    "        for k in range(60):\n",
    "            if \"3\" in (str(i)+str(j)+str(k)):\n",
    "                count += 1\n",
    "\n",
    "print(count)"
   ]
  },
  {
   "cell_type": "code",
   "execution_count": 6,
   "metadata": {},
   "outputs": [
    {
     "name": "stdout",
     "output_type": "stream",
     "text": [
      "4\n"
     ]
    }
   ],
   "source": [
    "# 실전: 왕실의 나이트\n",
    "\n",
    "point = input()\n",
    "\n",
    "point_x = point[0]\n",
    "point_y = point[1]\n",
    "\n",
    "x = ['a', 'b', 'c', 'd', 'e', 'f','g', 'h']\n",
    "y = [ str(i) for i in range(1,9)]\n",
    "\n",
    "# print(x.index(point_x))\n",
    "# print(y.index(point_y))\n",
    "\n",
    "x = x.index(point_x)\n",
    "y = y.index(point_y)\n",
    "\n",
    "up = y-2\n",
    "down = y+2\n",
    "left = x-2\n",
    "right = x+2\n",
    "\n",
    "count = 0\n",
    "\n",
    "if up in range(0,9):\n",
    "    if x+1 in range(0,9):\n",
    "        count += 1\n",
    "    if x-1 in range(0,9):\n",
    "        count += 1\n",
    "if down in range(0,9):\n",
    "    if x+1 in range(0,9):\n",
    "        count += 1\n",
    "    if x-1 in range(0,9):\n",
    "        count += 1\n",
    "if left in range(0,9):\n",
    "    if y+1 in range(0,9):\n",
    "        count += 1\n",
    "    if y-1 in range(0,9):\n",
    "        count += 1\n",
    "if down in range(0,9):\n",
    "    if y+1 in range(0,9):\n",
    "        count += 1\n",
    "    if y-1 in range(0,9):\n",
    "        count += 1\n",
    "\n",
    "print(count)"
   ]
  },
  {
   "cell_type": "code",
   "execution_count": 2,
   "metadata": {},
   "outputs": [
    {
     "name": "stdout",
     "output_type": "stream",
     "text": [
      "[[1, 1, 1, 1], [1, 0, 0, 1], [1, 1, 0, 1], [1, 1, 1, 1]]\n"
     ]
    }
   ],
   "source": [
    "# 중급, 해설필요\n",
    "# 4-3 게임 개발\n",
    "n, m = map(int, input().split())\n",
    "x, y, direct = map(int, input().split())\n",
    "\n",
    "maps = []\n",
    "for _ in range(n):\n",
    "    a = list(map(int, input().split()))\n",
    "    if len(a) == m:\n",
    "        maps.append(a)\n",
    "\n",
    "steps = [(0,-1),(1,0),(0,1),(0,-1)]\n",
    "\n",
    "if maps[x,y] == 1:\n",
    "    pass\n",
    "else:\n",
    "    next = steps[k+3%4]\n",
    "\n",
    "    if maps[x+next[0]][y+next[1]] == 1:\n",
    "        pass\n",
    "    "
   ]
  },
  {
   "cell_type": "code",
   "execution_count": 5,
   "metadata": {},
   "outputs": [
    {
     "name": "stdout",
     "output_type": "stream",
     "text": [
      "4\n"
     ]
    }
   ],
   "source": [
    "# 4-3 해설\n",
    "n, m = map(int, input().split())\n",
    "\n",
    "# 방문한 위치를 저장할 리스트\n",
    "d = [[0]*m for _ in range(n)]\n",
    "\n",
    "# 현재 캐릭터 좌표\n",
    "x, y, direction = map(int, input().split())\n",
    "d[x][y] == 1\n",
    "# 맵 정보 입력받기\n",
    "array = []\n",
    "\n",
    "for _ in range(n):\n",
    "    array.append(list(map(int, input().split())))\n",
    "\n",
    "# x,y 증분\n",
    "dx = [-1 , 0, 1, 0]\n",
    "dy = [0, 1, 0, -1]\n",
    "\n",
    "# 왼쪽으로 돌고 방향을 바꾸는 함수\n",
    "def turnleft():\n",
    "    global direction\n",
    "    direction -= 1\n",
    "    if direction == -1:\n",
    "        direction = 3\n",
    "\n",
    "turn_time = 0\n",
    "count = 0\n",
    "while(True):\n",
    "    \n",
    "    # 왼쪽으로 회전\n",
    "    turnleft()\n",
    "    \n",
    "    # 임시 좌표\n",
    "    nx = x + dx[direction]\n",
    "    ny = y + dy[direction]\n",
    "\n",
    "    # 방문하지 않고 바다가아니면 전진\n",
    "    if d[nx][ny] == 0 and array[nx][ny] ==0:\n",
    "        x = nx\n",
    "        y = ny # 실제좌표이동\n",
    "        turn_time +=1\n",
    "        count += 1\n",
    "        continue\n",
    "    # 4번돌았을때\n",
    "    elif turn_time==4:\n",
    "        turn_time = 0\n",
    "        # 뒤로 갈수있는지 검사\n",
    "        nx = x - dx[direction]\n",
    "        ny = y - dy[direction]\n",
    "        \n",
    "        if array[nx][ny] == 0:\n",
    "            x = nx\n",
    "            y = ny\n",
    "        else:\n",
    "            break\n",
    "\n",
    "print(count)\n",
    "\n",
    "    \n",
    "    "
   ]
  }
 ],
 "metadata": {
  "interpreter": {
   "hash": "ab3a6c5ad1e8c4480a05b10b8bb1c2db3bc6360fc5ba5f5bb59c3c79a0ea1185"
  },
  "kernelspec": {
   "display_name": "Python 3.8.8 ('base')",
   "language": "python",
   "name": "python3"
  },
  "language_info": {
   "codemirror_mode": {
    "name": "ipython",
    "version": 3
   },
   "file_extension": ".py",
   "mimetype": "text/x-python",
   "name": "python",
   "nbconvert_exporter": "python",
   "pygments_lexer": "ipython3",
   "version": "3.8.8"
  },
  "orig_nbformat": 4
 },
 "nbformat": 4,
 "nbformat_minor": 2
}
