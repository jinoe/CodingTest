{
 "cells": [
  {
   "cell_type": "code",
   "execution_count": 1,
   "metadata": {},
   "outputs": [
    {
     "name": "stdout",
     "output_type": "stream",
     "text": [
      "1 2 7 6 8 3 4 5 "
     ]
    }
   ],
   "source": [
    "# DFS 구현예제\n",
    "# graph는 2차원배열\n",
    "# v 정점번호, visted 방문기록\n",
    "def dfs(graph,v,visted):\n",
    "    visted[v] = True # 방문\n",
    "    print(v, end=\" \")\n",
    "    for i in graph[v]:\n",
    "        if visted[i] != True:\n",
    "            dfs(graph,i,visted) # 방문기록 없으면 방문\n",
    "\n",
    "#그래프 초기화\n",
    "graph = [ # 0번째 노드는 정의하지않고 생성만해둠\n",
    "    [],\n",
    "    [2,3,8],\n",
    "    [1,7],\n",
    "    [1,4,5],\n",
    "    [3,5],\n",
    "    [3,4],\n",
    "    [7],\n",
    "    [2,6,8],\n",
    "    [1,7]\n",
    "]\n",
    "\n",
    "# visted 초기화\n",
    "visted = [False] * 9 # 9는 정점갯수(8) + 1\n",
    "\n",
    "dfs(graph,1,visted)"
   ]
  },
  {
   "cell_type": "code",
   "execution_count": 3,
   "metadata": {},
   "outputs": [
    {
     "name": "stdout",
     "output_type": "stream",
     "text": [
      "1 2 3 8 7 4 5 6 "
     ]
    }
   ],
   "source": [
    "# BFS 예제\n",
    "\n",
    "# collections의 deque() 사용\n",
    "\n",
    "from collections import deque\n",
    "\n",
    "# bfs는 재귀함수 사용하지 않음\n",
    "# 최초 1회 큐 생성후 큐가 빌때까지 반복 <-|.....| <- /First in First out\n",
    "\n",
    "def bfs(graph,start,visted):\n",
    "    queue = deque([start]) #초기 시작노드 생성\n",
    "    visted[start] = True\n",
    "    while queue:   #큐가 빌때까지\n",
    "        v = queue.popleft()\n",
    "        print(v,end=\" \")\n",
    "        for i in graph[v]:\n",
    "            if not visted[i]:\n",
    "                queue.append(i) # 큐에 추가함과 동시에 방문처리 \n",
    "                visted[i] = True\n",
    "                # 방문예정되어 있는데 visted값이 False면 다른 노드에서 방문예정인걸 알수 없음\n",
    "\n",
    "graph = [\n",
    "    [],\n",
    "    [2,3,8],\n",
    "    [1,7],\n",
    "    [1,4,5],\n",
    "    [3,5],\n",
    "    [3,4],\n",
    "    [7],\n",
    "    [2,6,8],\n",
    "    [1,7]\n",
    "]\n",
    "\n",
    "# visted 초기화\n",
    "visted = [False] * 9\n",
    "\n",
    "bfs(graph,1,visted)"
   ]
  },
  {
   "cell_type": "code",
   "execution_count": null,
   "metadata": {},
   "outputs": [],
   "source": [
    "# 3 음료수 얼려먹기\n",
    "# 꼭 그래프로 받아야 하는것은 아니다.\n",
    "# DFS는 재귀호출을 통해 깊이우선탐색을 구현할 수 있다.\n",
    "n, m = map(int, input().split())\n",
    "\n",
    "array = []\n",
    "for _ in range(n):\n",
    "    array.append(list(map(int,input())))\n",
    "\n",
    "count = 0\n",
    "# print(array)\n",
    "def dfs(x,y):\n",
    "    if x<=-1 or x>=n or y <= -1 or y>=m:\n",
    "        return False\n",
    "    if array[x][y] == 0:\n",
    "        array[x][y] = 1\n",
    "        dfs(x-1,y)\n",
    "        dfs(x+1,y)\n",
    "        dfs(x,y+1)\n",
    "        dfs(x,y-1)\n",
    "        return True\n",
    "    \n",
    "    return False\n",
    "        \n",
    "\n",
    "for i in range(n):\n",
    "    for j in range(m):\n",
    "        if array[i][j] == 0:\n",
    "            if dfs(i,j) == True:\n",
    "                count += 1\n",
    "\n",
    "print(count)"
   ]
  },
  {
   "cell_type": "code",
   "execution_count": 37,
   "metadata": {},
   "outputs": [
    {
     "name": "stdout",
     "output_type": "stream",
     "text": [
      "[1, 0, 1, 0, 1, 0]\n",
      "[1, 1, 1, 1, 1, 1]\n",
      "[0, 0, 0, 0, 0, 1]\n",
      "[1, 1, 1, 1, 1, 1]\n",
      "[1, 1, 1, 1, 1, 1]\n",
      "0 0\n",
      "1 0\n",
      "0 0\n",
      "1 1\n",
      "1 2\n",
      "0 2\n",
      "1 3\n",
      "1 4\n",
      "0 4\n",
      "1 5\n",
      "2 5\n",
      "3 5\n",
      "10\n",
      "[3, 0, 5, 0, 7, 0]\n",
      "[2, 3, 4, 5, 6, 7]\n",
      "[0, 0, 0, 0, 0, 8]\n",
      "[1, 1, 1, 1, 10, 9]\n",
      "[1, 1, 1, 1, 1, 10]\n"
     ]
    }
   ],
   "source": [
    "#4 미로탈출\n",
    "# BFS는 deque로 큐 생성 후 시작값을 수동으로 넣고 나머지는 while문으로 각 LEVEL 마다 순차적으로 큐에 들어가게 한다.\n",
    "from collections import deque\n",
    "\n",
    "n, m = map(int, input().split())\n",
    "\n",
    "graph = []\n",
    "\n",
    "for _ in range(n):\n",
    "    graph.append(list(map(int,input())))\n",
    "\n",
    "count = 0\n",
    "\n",
    "for i in graph:\n",
    "    print(i)\n",
    "\n",
    "def bfs(graph):\n",
    "    x = 0\n",
    "    y = 0\n",
    "    queue = deque([(x,y)])\n",
    "    # print(queue)\n",
    "    # global count\n",
    "\n",
    "    while queue:\n",
    "        a = queue.popleft()\n",
    "        \n",
    "        x = a[0]\n",
    "        y = a[1]\n",
    "        if (x,y) == (n-1,m-1):\n",
    "            print(graph[n-1][m-1])\n",
    "            break\n",
    "        print(x,y)\n",
    "        if x<n-1 and graph[x+1][y] == 1:\n",
    "            queue.append((x+1,y))\n",
    "            graph[x+1][y] += graph[x][y]\n",
    "\n",
    "        if x>0 and graph[x-1][y] == 1:\n",
    "            queue.append((x-1,y))\n",
    "            graph[x-1][y] += graph[x][y]\n",
    "\n",
    "        if y<m-1 and graph[x][y+1] == 1:\n",
    "            queue.append((x,y+1))\n",
    "            graph[x][y+1] += graph[x][y]\n",
    "\n",
    "        if y>0 and graph[x][y-1] == 1:\n",
    "            queue.append((x,y-1))\n",
    "            graph[x][y-1] += graph[x][y]\n",
    "        \n",
    "\n",
    "bfs(graph)\n",
    "for i in graph:\n",
    "    print(i)\n"
   ]
  },
  {
   "cell_type": "code",
   "execution_count": 12,
   "metadata": {},
   "outputs": [
    {
     "name": "stdout",
     "output_type": "stream",
     "text": [
      "deque([(1, 2)])\n",
      "deque([])\n",
      "deque([(3, 4)])\n",
      "deque([])\n",
      "(1, 2) (3, 4)\n",
      "1 2\n"
     ]
    }
   ],
   "source": [
    "from collections import deque\n",
    "queue = deque([(1,2)])\n",
    "print(queue)\n",
    "a = queue.popleft()\n",
    "print(queue)\n",
    "queue.append((3,4))\n",
    "print(queue)\n",
    "b = queue.popleft()\n",
    "print(queue)\n",
    "# c = queue.popleft()\n",
    "print(a,b)\n",
    "print(a[0],a[1])"
   ]
  },
  {
   "cell_type": "markdown",
   "metadata": {},
   "source": [
    "백준 DFS 2606번 (실버3)\n",
    "\n",
    "신종 바이러스인 웜 바이러스는 네트워크를 통해 전파된다. 한 컴퓨터가 웜 바이러스에 걸리면 그 컴퓨터와 네트워크 상에서 연결되어 있는 모든 컴퓨터는 웜 바이러스에 걸리게 된다.\n",
    "\n",
    "예를 들어 7대의 컴퓨터가 <그림 1>과 같이 네트워크 상에서 연결되어 있다고 하자. 1번 컴퓨터가 웜 바이러스에 걸리면 웜 바이러스는 2번과 5번 컴퓨터를 거쳐 3번과 6번 컴퓨터까지 전파되어 2, 3, 5, 6 네 대의 컴퓨터는 웜 바이러스에 걸리게 된다. 하지만 4번과 7번 컴퓨터는 1번 컴퓨터와 네트워크상에서 연결되어 있지 않기 때문에 영향을 받지 않는다.\n",
    "\n",
    "\n",
    "\n",
    "어느 날 1번 컴퓨터가 웜 바이러스에 걸렸다. 컴퓨터의 수와 네트워크 상에서 서로 연결되어 있는 정보가 주어질 때, 1번 컴퓨터를 통해 웜 바이러스에 걸리게 되는 컴퓨터의 수를 출력하는 프로그램을 작성하시오."
   ]
  },
  {
   "cell_type": "code",
   "execution_count": 48,
   "metadata": {},
   "outputs": [
    {
     "name": "stdout",
     "output_type": "stream",
     "text": [
      "4\n"
     ]
    }
   ],
   "source": [
    "# 틀린이유 : 그래프를 구현할 때는 방향성과 무방향성에따라 다르게 접근해야한다.\n",
    "# 노드번호가 있는경우 인덱스는 0부터 번호는 1부터 시작하는것을 주의\n",
    "# 그래프를 구현할때는 두번 append 해서 이중리스트로 구현\n",
    "n = int(input())\n",
    "\n",
    "num_link = int(input())\n",
    "\n",
    "link = [[] for _ in range(n+1)]\n",
    "for i in range(num_link):\n",
    "    a, b = map(int, input().split())\n",
    "    link[a].append(b)\n",
    "    link[b].append(a)\n",
    "\n",
    "\n",
    "count = -1\n",
    "\n",
    "visted = [False] * (n+1)\n",
    "def DFS(v, link):\n",
    "    global count\n",
    "\n",
    "    visted[v] = True\n",
    "\n",
    "    for i in link[v]:\n",
    "        if visted[i]==False:\n",
    "            DFS(i,link)\n",
    "    \n",
    "    count += 1\n",
    "    return count\n",
    "print(DFS(1,link))"
   ]
  },
  {
   "cell_type": "code",
   "execution_count": 40,
   "metadata": {},
   "outputs": [
    {
     "name": "stdout",
     "output_type": "stream",
     "text": [
      "3\n"
     ]
    }
   ],
   "source": [
    "# 1012 유기농 배추 (실버2)\n",
    "\n",
    "testcase = int(input())\n",
    "\n",
    "for _ in range(testcase):\n",
    "\n",
    "    m, n, k = map(int, input().split())\n",
    "\n",
    "    garden = []\n",
    "\n",
    "    for i in range(n):\n",
    "        garden.append([0 for _ in range(m)])\n",
    "\n",
    "    for _ in range(k):\n",
    "        a, b = map(int, input().split())\n",
    "        garden[b][a] = 1 # 2차원 리스트에 선언할때는 y값 즉 행번호가 먼저 오는것에 주의\n",
    "\n",
    "    count = 0\n",
    "\n",
    "    from collections import deque\n",
    "\n",
    "    def BFS(a,b,garden):\n",
    "\n",
    "        if garden[b][a] == 0:\n",
    "            return False\n",
    "        global count\n",
    "        count += 1\n",
    "        queue = deque()\n",
    "        queue.append((a,b))\n",
    "        garden[b][a] = 0\n",
    "\n",
    "        dx = [1,0,-1,0]\n",
    "        dy = [0,1,0,-1]\n",
    "\n",
    "        while queue:\n",
    "            x, y = queue.popleft() # 튜플(a,b)를 pop 할때 x, y 로 쓰면 2개로 나오고 x 만쓰면 x가 튜플이 된다.\n",
    "\n",
    "            for i in range(4):\n",
    "                nx = x+dx[i] #(nx,ny)는 한칸 이동 후 위치, 총 4번 반복\n",
    "                ny = y+dy[i]\n",
    "\n",
    "                if nx>=0 and nx<=m-1 and ny>=0 and ny<=n-1:\n",
    "                    if garden[ny][nx] == 1:\n",
    "                        queue.append((nx,ny))\n",
    "                        garden[ny][nx] == 0\n",
    "\n",
    "    for i in range(n):\n",
    "        for j in range(m):\n",
    "            BFS(i,j,garden)\n",
    "\n",
    "    print(count)\n"
   ]
  },
  {
   "cell_type": "code",
   "execution_count": 29,
   "metadata": {},
   "outputs": [
    {
     "name": "stdout",
     "output_type": "stream",
     "text": [
      "2\n"
     ]
    }
   ],
   "source": [
    "\n",
    "testcase = int(input())\n",
    "\n",
    "def DFS(x,y):\n",
    "        if x>=0 and x<=m-1 and y>=0 and y <= n-1:\n",
    "            if garden[x][y] == 1:\n",
    "                garden[x][y] = 0\n",
    "                DFS(x+1,y)\n",
    "                DFS(x-1,y)\n",
    "                DFS(x,y+1)\n",
    "                DFS(x,y-1)\n",
    "                return True\n",
    "        return False\n",
    "\n",
    "for i in range(testcase):\n",
    "    n,m,k = map(int, input().split())\n",
    "\n",
    "    garden =[]\n",
    "    for _ in range(m):\n",
    "        garden.append([0 for _ in range(n)])\n",
    "\n",
    "    for i in range(k):\n",
    "        a,b = map(int, input().split())\n",
    "        garden[b][a] = 1\n",
    "\n",
    "    count = 0\n",
    "\n",
    "    for i in range(m):\n",
    "        for j in range(n):\n",
    "            if DFS(i,j) == True:\n",
    "                count += 1\n",
    "    print(count)\n"
   ]
  }
 ],
 "metadata": {
  "interpreter": {
   "hash": "ab3a6c5ad1e8c4480a05b10b8bb1c2db3bc6360fc5ba5f5bb59c3c79a0ea1185"
  },
  "kernelspec": {
   "display_name": "Python 3.8.8 ('base')",
   "language": "python",
   "name": "python3"
  },
  "language_info": {
   "codemirror_mode": {
    "name": "ipython",
    "version": 3
   },
   "file_extension": ".py",
   "mimetype": "text/x-python",
   "name": "python",
   "nbconvert_exporter": "python",
   "pygments_lexer": "ipython3",
   "version": "3.8.8"
  },
  "orig_nbformat": 4
 },
 "nbformat": 4,
 "nbformat_minor": 2
}
